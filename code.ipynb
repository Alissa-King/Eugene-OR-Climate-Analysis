import pandas as pd
import matplotlib.pyplot as plt
import seaborn as sns
from sklearn.model_selection import train_test_split
from sklearn.linear_model import LinearRegression
import requests
from io import StringIO
import numpy as np

# Function to fetch climate data from NOAA
def fetch_noaa_data(station_id, start_year, end_year):
    base_url = "https://www.ncei.noaa.gov/access/services/data/v1"
    params = {
        "dataset": "daily-summaries",
        "stations": station_id,
        "startDate": f"{start_year}-01-01",
        "endDate": f"{end_year}-12-31",
        "dataTypes": "TMAX,TMIN,PRCP",
        "format": "csv"
    }
    response = requests.get(base_url, params=params)
    data = pd.read_csv(StringIO(response.text))
    return data

# Function to convert Celsius to Fahrenheit
def celsius_to_fahrenheit(temp_c):
    return (temp_c * 9/5) + 32

# Function to convert millimeters to inches
def mm_to_inches(mm):
    return mm / 25.4

# Fetch data for Eugene, Oregon (Eugene Airport)
eugene_data = fetch_noaa_data("USW00024221", 1970, 2022)

# Process the climate data
eugene_data['DATE'] = pd.to_datetime(eugene_data['DATE'])
eugene_data['YEAR'] = eugene_data['DATE'].dt.year
eugene_data['TMAX'] = celsius_to_fahrenheit(eugene_data['TMAX'] / 10)  # Convert to °F
eugene_data['TMIN'] = celsius_to_fahrenheit(eugene_data['TMIN'] / 10)  # Convert to °F
eugene_data['TAVG'] = (eugene_data['TMAX'] + eugene_data['TMIN']) / 2
eugene_data['PRCP'] = mm_to_inches(eugene_data['PRCP'] / 10)  # Convert tenths of mm to inches

# Calculate annual averages
annual_data = eugene_data.groupby('YEAR').agg({
    'TAVG': 'mean',
    'PRCP': 'sum'
}).reset_index()

# Visualize temperature trend
plt.figure(figsize=(12, 6))
sns.regplot(x='YEAR', y='TAVG', data=annual_data)
plt.title('Annual Average Temperature in Eugene, Oregon (1970-2022)')
plt.xlabel('Year')
plt.ylabel('Temperature (°F)')
plt.show()

# Visualize precipitation trend
plt.figure(figsize=(12, 6))
sns.regplot(x='YEAR', y='PRCP', data=annual_data)
plt.title('Annual Precipitation in Eugene, Oregon (1970-2022)')
plt.xlabel('Year')
plt.ylabel('Precipitation (inches)')
plt.show()

# Simple linear regression for temperature projection
X = annual_data[['YEAR']]
y = annual_data['TAVG']
X_train, X_test, y_train, y_test = train_test_split(X, y, test_size=0.2, random_state=42)

model = LinearRegression()
model.fit(X_train, y_train)

# Project temperature to 2050
future_years = pd.DataFrame({'YEAR': range(2023, 2051)})
projected_temp = model.predict(future_years)

# Visualize projection
plt.figure(figsize=(12, 6))
plt.scatter(annual_data['YEAR'], annual_data['TAVG'], label='Historical Data')
plt.plot(future_years, projected_temp, color='red', label='Projected')
plt.title('Temperature Projection for Eugene, Oregon (1970-2050)')
plt.xlabel('Year')
plt.ylabel('Temperature (°F)')
plt.legend()
plt.show()

# Fetch agricultural data (example with grass seed production in Willamette Valley)
def fetch_agricultural_data():
    # This is a placeholder. In a real scenario, you'd fetch this data from USDA or Oregon state sources
    years = range(1970, 2023)
    production = np.random.normal(400000000, 40000000, len(years))  # Random data for illustration
    return pd.DataFrame({'YEAR': years, 'GRASS_SEED_PRODUCTION': production})

ag_data = fetch_agricultural_data()

# Merge climate and agricultural data
merged_data = pd.merge(annual_data, ag_data, on='YEAR')

# Analyze relationship between temperature and grass seed production
plt.figure(figsize=(12, 6))
sns.scatterplot(x='TAVG', y='GRASS_SEED_PRODUCTION', data=merged_data)
plt.title('Relationship between Temperature and Grass Seed Production in Willamette Valley')
plt.xlabel('Average Annual Temperature (°F)')
plt.ylabel('Grass Seed Production (pounds)')
plt.show()

print("Data collection and initial analysis for Eugene complete.")

# Print some summary statistics
print("\nSummary Statistics:")
print(annual_data.describe())

# Calculate and print the temperature change rate
temp_change_rate = model.coef_[0]
print(f"\nEstimated temperature change rate: {temp_change_rate:.4f}°F per year")
print(f"Projected temperature increase by 2050: {temp_change_rate * (2050 - 2022):.2f}°F")

# Calculate and print the precipitation change rate
precip_model = LinearRegression().fit(annual_data[['YEAR']], annual_data['PRCP'])
precip_change_rate = precip_model.coef_[0]
print(f"\nEstimated precipitation change rate: {precip_change_rate:.4f} inches per year")
print(f"Projected precipitation change by 2050: {precip_change_rate * (2050 - 2022):.2f} inches")
